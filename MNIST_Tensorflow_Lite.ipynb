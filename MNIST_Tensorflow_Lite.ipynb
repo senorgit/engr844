{
 "cells": [
  {
   "cell_type": "code",
   "execution_count": 14,
   "metadata": {},
   "outputs": [
    {
     "name": "stdout",
     "output_type": "stream",
     "text": [
      "2.1.0\n"
     ]
    }
   ],
   "source": [
    "#import\n",
    "import tensorflow as tf\n",
    "from tensorflow import keras\n",
    "import os\n",
    "import random\n",
    "import math\n",
    "\n",
    "#import helper libraries\n",
    "import numpy as np\n",
    "import matplotlib.pyplot as pyplot\n",
    "import matplotlib.image as mpimg\n",
    "from PIL import Image\n",
    "from sklearn.model_selection import KFold\n",
    "from keras.utils import to_categorical\n",
    "from keras.models import Sequential\n",
    "from keras.layers import Conv2D\n",
    "from keras.layers import MaxPooling2D\n",
    "from keras.layers import Dense\n",
    "from keras.layers import Flatten\n",
    "from keras.optimizers import SGD\n",
    "# make a prediction for a new image.\n",
    "from keras.preprocessing.image import load_img\n",
    "from keras.preprocessing.image import img_to_array\n",
    "from keras.models import load_model\n",
    "\n",
    "print(tf.__version__)"
   ]
  },
  {
   "cell_type": "code",
   "execution_count": 15,
   "metadata": {},
   "outputs": [
    {
     "data": {
      "text/plain": [
       "(3.0, 1.4142135623730951)"
      ]
     },
     "execution_count": 15,
     "metadata": {},
     "output_type": "execute_result"
    }
   ],
   "source": [
    "#Testing mean and std deviation of numpy\n",
    "arr = np.array([[1, 2, 3, 4, 5]])\n",
    "mean = np.mean(arr)\n",
    "std = np.std(arr)\n",
    "mean, std"
   ]
  },
  {
   "cell_type": "code",
   "execution_count": 16,
   "metadata": {},
   "outputs": [],
   "source": [
    "# Helper function to display digit images\n",
    "def show_sample(images, labels, sample_count=25):\n",
    "  # Create a square with can fit {sample_count} images\n",
    "  grid_count = math.ceil(math.ceil(math.sqrt(sample_count)))\n",
    "  grid_count = min(grid_count, len(images), len(labels))\n",
    "  \n",
    "  plt.figure(figsize=(2*grid_count, 2*grid_count))\n",
    "  for i in range(sample_count):\n",
    "    plt.subplot(grid_count, grid_count, i+1)\n",
    "    plt.xticks([])\n",
    "    plt.yticks([])\n",
    "    plt.grid(False)\n",
    "    plt.imshow(images[i], cmap=plt.cm.gray)\n",
    "    plt.xlabel(labels[i])\n",
    "  plt.show()"
   ]
  },
  {
   "cell_type": "code",
   "execution_count": 17,
   "metadata": {},
   "outputs": [],
   "source": [
    "# evaluate a model using k-fold cross-validation\n",
    "def evaluate_model(dataX, dataY, n_folds=5):\n",
    "\tscores, histories = list(), list()\n",
    "\t# prepare cross validation\n",
    "\tkfold = KFold(n_folds, shuffle=True, random_state=1)\n",
    "\t# enumerate splits\n",
    "\tfor train_ix, test_ix in kfold.split(dataX):\n",
    "\t\t# define model\n",
    "\t\tmodel = define_model() \n",
    "\t\t# select rows for train and test\n",
    "\t\ttrainX, trainY, testX, testY = dataX[train_ix], dataY[train_ix], dataX[test_ix], dataY[test_ix]\n",
    "\t\t# fit model\n",
    "\t\t#history = model.fit(trainX, trainY, epochs=10, batch_size=32, validation_data=(testX, testY), verbose=1)\n",
    "\t\thistory = fit_model(model)\n",
    "\t\t# evaluate model\n",
    "\t\t_, acc = model.evaluate(testX, testY, verbose=0)\n",
    "\t\tprint('> %.3f' % (acc * 100.0))\n",
    "\t\t# stores scores\n",
    "\t\tscores.append(acc)\n",
    "\t\thistories.append(history)\n",
    "\treturn scores, histories"
   ]
  },
  {
   "cell_type": "code",
   "execution_count": 18,
   "metadata": {},
   "outputs": [],
   "source": [
    "# plot diagnostic learning curves\n",
    "def summarize_diagnostics(histories):\n",
    "\tfor i in range(len(histories)):\n",
    "\t\t# plot loss\n",
    "\t\tpyplot.subplot(2, 1, 1)\n",
    "\t\tpyplot.title('Cross Entropy Loss')\n",
    "\t\tpyplot.plot(histories[i].history['loss'], color='blue', label='train')\n",
    "\t\tpyplot.plot(histories[i].history['val_loss'], color='orange', label='test')\n",
    "\t\t# plot accuracy\n",
    "\t\tpyplot.subplot(2, 1, 2)\n",
    "\t\tpyplot.title('Classification Accuracy')\n",
    "\t\tpyplot.plot(histories[i].history['accuracy'], color='blue', label='train')\n",
    "\t\tpyplot.plot(histories[i].history['val_accuracy'], color='orange', label='test')\n",
    "\tpyplot.show()"
   ]
  },
  {
   "cell_type": "code",
   "execution_count": 19,
   "metadata": {},
   "outputs": [],
   "source": [
    "# summarize model performance\n",
    "def summarize_performance(scores):\n",
    "\t# print summary\n",
    "\tprint('Accuracy: mean=%.3f std=%.3f, n=%d' % (np.mean(scores)*100, np.std(scores)*100, len(scores)))\n",
    "\t# box and whisker plots of results\n",
    "\tpyplot.boxplot(scores)\n",
    "\tpyplot.show()"
   ]
  },
  {
   "cell_type": "code",
   "execution_count": 20,
   "metadata": {},
   "outputs": [],
   "source": [
    "# run the test harness for evaluating a model\n",
    "def run_test_harness():\n",
    "    # load dataset\n",
    "\ttrainX, trainY, testX, testY = load_dataset()\n",
    "\t# evaluate model\n",
    "\tscores, histories = evaluate_model(trainX, trainY)\n",
    "\tprint('evaluate model completed')\n",
    "\tprint('scores=',scores,'  histories=',histories)\n",
    "\t# learning curves\n",
    "\t##summarize_diagnostics(histories)????\n",
    "\t##print('learning cureve completed')????\n",
    "\t# summarize estimated performance\n",
    "\tsummarize_performance(scores)\n",
    "\tprint('performance score completed')\n"
   ]
  },
  {
   "cell_type": "code",
   "execution_count": 21,
   "metadata": {},
   "outputs": [],
   "source": [
    "def load_dataset():\n",
    "    #import dataset\n",
    "    mnist = keras.datasets.mnist\n",
    "    #load dataset\n",
    "    (trainX, trainY),(testX,testY) = mnist.load_data()\n",
    "    # Normalize the input image so that each pixel value is between 0 to 1.\n",
    "    trainX = trainX / 255.0\n",
    "    testX = testX / 255.0\n",
    "    print('Pixels are normalized')\n",
    "    return trainX, trainY, testX, testY"
   ]
  },
  {
   "cell_type": "code",
   "execution_count": 22,
   "metadata": {
    "scrolled": true
   },
   "outputs": [],
   "source": [
    "# np.set_printoptions(linewidth = 200)\n",
    "# plt.imshow(trainX[7])\n",
    "# print(trainY[7])\n",
    "# print(trainX[7])"
   ]
  },
  {
   "cell_type": "code",
   "execution_count": 23,
   "metadata": {},
   "outputs": [
    {
     "name": "stdout",
     "output_type": "stream",
     "text": [
      "Pixels are normalized\n"
     ]
    },
    {
     "data": {
      "image/png": "[encoded data removed]",
      "text/plain": [
       "<Figure size 432x288 with 9 Axes>"
      ]
     },
     "metadata": {},
     "output_type": "display_data"
    }
   ],
   "source": [
    "#Plot first few images\n",
    "# load dataset\n",
    "trainX, trainY, testX, testY = load_dataset()\n",
    "for i in range(9):\n",
    "    #define a subplot\n",
    "    pyplot.subplot(3,3, i+1)\n",
    "    pyplot.xticks([])\n",
    "    pyplot.yticks([])\n",
    "    #plot raw pixel data\n",
    "    pyplot.imshow(testX[i],cmap=pyplot.get_cmap('gray')) \n",
    "    pyplot.xlabel(testY[i])\n",
    "#show the figures\n",
    "pyplot.show()"
   ]
  },
  {
   "cell_type": "code",
   "execution_count": 31,
   "metadata": {},
   "outputs": [],
   "source": [
    "def define_model():   \n",
    "    model = keras.Sequential([\n",
    "        keras.layers.InputLayer(input_shape=(28, 28)),\n",
    "        keras.layers.Reshape(target_shape=(28, 28, 1)),\n",
    "        keras.layers.Conv2D(filters=32, kernel_size=(3, 3), activation=tf.nn.relu),\n",
    "        keras.layers.MaxPooling2D(pool_size=(2, 2)),\n",
    "        keras.layers.Conv2D(filters=64, kernel_size=(3, 3), activation=tf.nn.relu),\n",
    "        keras.layers.MaxPooling2D(pool_size=(2, 2)),\n",
    "        keras.layers.Conv2D(filters=64, kernel_size=(3, 3), activation=tf.nn.relu),\n",
    "        keras.layers.MaxPooling2D(pool_size=(2, 2)),\n",
    "        keras.layers.Dropout(0.25),\n",
    "        keras.layers.Flatten(),\n",
    "        keras.layers.Dense(128, activation='relu'),\n",
    "        keras.layers.Dense(10, activation='softmax')\n",
    "    ])\n",
    "\n",
    "    # compile model\n",
    "    model.compile(optimizer='adam',\n",
    "                  loss=tf.keras.losses.SparseCategoricalCrossentropy(from_logits=True),\n",
    "                  metrics=['accuracy'])\n",
    "    return model"
   ]
  },
  {
   "cell_type": "code",
   "execution_count": 32,
   "metadata": {
    "scrolled": true
   },
   "outputs": [],
   "source": [
    "#fit model\n",
    "def fit_model(model):\n",
    "    class myCallback(tf.keras.callbacks.Callback):\n",
    "      def on_epoch_end(self, epoch, logs={}):\n",
    "        if(logs.get('loss')<1.5):\n",
    "          print(\"\\nReached 80% accuracy so cancelling training!\")\n",
    "          self.model.stop_training = True\n",
    "    callbacks = myCallback()    \n",
    "    history = model.fit(trainX, trainY, batch_size=32, epochs=5, validation_data=(testX, testY), callbacks=[callbacks])   \n",
    "    return history"
   ]
  },
  {
   "cell_type": "code",
   "execution_count": null,
   "metadata": {},
   "outputs": [
    {
     "name": "stdout",
     "output_type": "stream",
     "text": [
      "Pixels are normalized\n",
      "Train on 60000 samples, validate on 10000 samples\n",
      "Epoch 1/5\n",
      "60000/60000 [==============================] - 231s 4ms/sample - loss: 1.6066 - accuracy: 0.8594 - val_loss: 1.5075 - val_accuracy: 0.9550\n",
      "Epoch 2/5\n",
      "60000/60000 [==============================] - 246s 4ms/sample - loss: 1.5204 - accuracy: 0.9419 - val_loss: 1.4955 - val_accuracy: 0.9657\n",
      "Epoch 3/5\n",
      "60000/60000 [==============================] - 211s 4ms/sample - loss: 1.5076 - accuracy: 0.9541 - val_loss: 1.4892 - val_accuracy: 0.9723\n",
      "Epoch 4/5\n",
      "60000/60000 [==============================] - 203s 3ms/sample - loss: 1.5009 - accuracy: 0.9606 - val_loss: 1.4819 - val_accuracy: 0.9800\n",
      "Epoch 5/5\n",
      "59968/60000 [============================>.] - ETA: 0s - loss: 1.4966 - accuracy: 0.9649\n",
      "Reached 80% accuracy so cancelling training!\n",
      "60000/60000 [==============================] - 207s 3ms/sample - loss: 1.4966 - accuracy: 0.9650 - val_loss: 1.4844 - val_accuracy: 0.9767\n",
      "> 97.733\n",
      "Train on 60000 samples, validate on 10000 samples\n",
      "Epoch 1/5\n",
      "60000/60000 [==============================] - 201s 3ms/sample - loss: 1.5985 - accuracy: 0.8674 - val_loss: 1.5073 - val_accuracy: 0.9550\n",
      "Epoch 2/5\n",
      "60000/60000 [==============================] - 202s 3ms/sample - loss: 1.5128 - accuracy: 0.9493 - val_loss: 1.4890 - val_accuracy: 0.9727\n",
      "Epoch 3/5\n",
      "60000/60000 [==============================] - 208s 3ms/sample - loss: 1.5013 - accuracy: 0.9603 - val_loss: 1.4855 - val_accuracy: 0.9759\n",
      "Epoch 4/5\n",
      "59968/60000 [============================>.] - ETA: 0s - loss: 1.4955 - accuracy: 0.9657\n",
      "Reached 80% accuracy so cancelling training!\n",
      "60000/60000 [==============================] - 207s 3ms/sample - loss: 1.4955 - accuracy: 0.9657 - val_loss: 1.4849 - val_accuracy: 0.9762\n",
      "> 97.725\n",
      "Train on 60000 samples, validate on 10000 samples\n",
      "Epoch 1/5\n",
      "60000/60000 [==============================] - 213s 4ms/sample - loss: 1.6006 - accuracy: 0.8649 - val_loss: 1.5112 - val_accuracy: 0.9504\n",
      "Epoch 2/5\n",
      "60000/60000 [==============================] - 187s 3ms/sample - loss: 1.5182 - accuracy: 0.9437 - val_loss: 1.4933 - val_accuracy: 0.9683\n",
      "Epoch 3/5\n",
      "60000/60000 [==============================] - 187s 3ms/sample - loss: 1.5072 - accuracy: 0.9543 - val_loss: 1.4908 - val_accuracy: 0.9704\n",
      "Epoch 4/5\n",
      "59968/60000 [============================>.] - ETA: 0s - loss: 1.4996 - accuracy: 0.9619\n",
      "Reached 80% accuracy so cancelling training!\n",
      "60000/60000 [==============================] - 191s 3ms/sample - loss: 1.4996 - accuracy: 0.9619 - val_loss: 1.4834 - val_accuracy: 0.9779\n",
      "> 97.867\n",
      "Train on 60000 samples, validate on 10000 samples\n",
      "Epoch 1/5\n",
      "60000/60000 [==============================] - 199s 3ms/sample - loss: 1.5967 - accuracy: 0.8695 - val_loss: 1.5019 - val_accuracy: 0.9605\n",
      "Epoch 2/5\n",
      "60000/60000 [==============================] - 191s 3ms/sample - loss: 1.5120 - accuracy: 0.9502 - val_loss: 1.4921 - val_accuracy: 0.9704\n",
      "Epoch 3/5\n",
      "60000/60000 [==============================] - 193s 3ms/sample - loss: 1.5022 - accuracy: 0.9597 - val_loss: 1.4871 - val_accuracy: 0.9746\n",
      "Epoch 4/5\n",
      "59968/60000 [============================>.] - ETA: 0s - loss: 1.4961 - accuracy: 0.9654\n",
      "Reached 80% accuracy so cancelling training!\n",
      "60000/60000 [==============================] - 198s 3ms/sample - loss: 1.4961 - accuracy: 0.9654 - val_loss: 1.4865 - val_accuracy: 0.9748\n",
      "> 97.625\n",
      "Train on 60000 samples, validate on 10000 samples\n",
      "Epoch 1/5\n",
      "60000/60000 [==============================] - 199s 3ms/sample - loss: 1.6014 - accuracy: 0.8634 - val_loss: 1.5096 - val_accuracy: 0.9516\n",
      "Epoch 2/5\n",
      "60000/60000 [==============================] - 199s 3ms/sample - loss: 1.5214 - accuracy: 0.9406 - val_loss: 1.4936 - val_accuracy: 0.9675\n",
      "Epoch 3/5\n",
      "60000/60000 [==============================] - 202s 3ms/sample - loss: 1.5085 - accuracy: 0.9530 - val_loss: 1.4882 - val_accuracy: 0.9727\n",
      "Epoch 4/5\n",
      "60000/60000 [==============================] - 201s 3ms/sample - loss: 1.5010 - accuracy: 0.9603 - val_loss: 1.4871 - val_accuracy: 0.9738\n",
      "Epoch 5/5\n",
      "48800/60000 [=======================>......] - ETA: 36s - loss: 1.4959 - accuracy: 0.9655"
     ]
    }
   ],
   "source": [
    "# entry point, run the test harness\n",
    "run_test_harness()"
   ]
  },
  {
   "cell_type": "code",
   "execution_count": null,
   "metadata": {},
   "outputs": [],
   "source": [
    "# Evaluating Keras model\n",
    "model = define_model()\n",
    "history= fit_model(model)\n",
    "print('history',history)\n",
    "score = model.evaluate(testX,testY, verbose=1)\n",
    "print('score', score)"
   ]
  },
  {
   "cell_type": "code",
   "execution_count": null,
   "metadata": {},
   "outputs": [],
   "source": [
    "#Predict the all label probabilities for the given test dataset\n",
    "probability = model.predict(testX)\n",
    "#print out all the 10-class probabilities of figure #6. Notes:class #4 has the highest\n",
    "print(probability[7])\n",
    "#predict the classes for the given test dataset\n",
    "classifications = model.predict_classes(testX)\n",
    "#print out the class of figture #6\n",
    "print(classifications[7])"
   ]
  },
  {
   "cell_type": "code",
   "execution_count": null,
   "metadata": {},
   "outputs": [],
   "source": [
    "#list all file with .png in the current working directory\n",
    "os.listdir()"
   ]
  },
  {
   "cell_type": "code",
   "execution_count": null,
   "metadata": {},
   "outputs": [],
   "source": [
    "# load the image with either 2 commands below. add param: target_size = (28,28),if there is only 1 images\n",
    "#img = keras.preprocessing.image.load_img(\"MNIST_samples.png\", color_mode = \"grayscale\", interpolation='bilinear')\n",
    "img = load_img(\"MNIST_samples.png\", color_mode = \"grayscale\", interpolation='bilinear')"
   ]
  },
  {
   "cell_type": "code",
   "execution_count": null,
   "metadata": {},
   "outputs": [],
   "source": [
    "import matplotlib.pyplot as plt\n",
    "plt.grid(False)\n",
    "plt.gray()\n",
    "#plt.axis('off')\n",
    "plt.imshow(img)\n",
    "plt.show()"
   ]
  },
  {
   "cell_type": "code",
   "execution_count": null,
   "metadata": {},
   "outputs": [],
   "source": [
    "# load the image\n",
    "img = keras.preprocessing.image.load_img(\"1.png\", color_mode = \"grayscale\", target_size = (28,28), interpolation='bilinear')\n",
    "# prepare pixel data\n",
    "img = np.expand_dims(np.array(img, dtype=np.float32) / 255.0, 0)\n",
    "# convert to array\n",
    "img = img_to_array(img)\n",
    "#reshape into a single sample with 1 channel\n",
    "img = img.reshape(1,28,28)"
   ]
  },
  {
   "cell_type": "code",
   "execution_count": null,
   "metadata": {},
   "outputs": [],
   "source": [
    "classifications = model.predict_classes(img)\n",
    "print(classifications[0])"
   ]
  },
  {
   "cell_type": "code",
   "execution_count": null,
   "metadata": {},
   "outputs": [],
   "source": [
    "# Download a test image\n",
    "zero_img_path = keras.utils.get_file(\n",
    "    'zero.png', \n",
    "    'https://storage.googleapis.com/khanhlvg-public.appspot.com/digit-classifier/zero.png'\n",
    ")\n",
    "\n",
    "image = keras.preprocessing.image.load_img(\n",
    "    zero_img_path,\n",
    "    color_mode = 'grayscale',\n",
    "    target_size=(28, 28),\n",
    "    interpolation='bilinear'\n",
    ")\n",
    "\n",
    "plt.grid(False)\n",
    "plt.gray()\n",
    "#plt.axis('off')\n",
    "plt.imshow(image)\n",
    "plt.show()"
   ]
  },
  {
   "cell_type": "code",
   "execution_count": null,
   "metadata": {},
   "outputs": [],
   "source": [
    "# Pre-process the image: Adding batch dimension and normalize the pixel value to [0..1]\n",
    "# In training, we feed images in a batch to the model to improve training speed, making the model input shape to be (BATCH_SIZE, 28, 28).\n",
    "# For inference, we still need to match the input shape with training, so we expand the input dimensions to (1, 28, 28) using np.expand_dims\n",
    "input_image = np.expand_dims(np.array(image, dtype=np.float32) / 255.0, 0)\n",
    "\n",
    "classifications = model.predict_classes(input_image)\n",
    "print('Digit classification = ', classifications[0])"
   ]
  },
  {
   "cell_type": "code",
   "execution_count": null,
   "metadata": {},
   "outputs": [],
   "source": [
    "#path = /users/andrew/AI_projects/ and name = digitpredict.h5\n",
    "keras_file = \"/users/andrew/AI_projects/digitpredict.h5\"\n",
    "#same the model\n",
    "keras.models.save_model(model,keras_file)\n",
    "#below statement would do the same as above but it's not clear to user\n",
    "#model.save('/users/andrew/AI_projects/digitpredict.h5')"
   ]
  },
  {
   "cell_type": "code",
   "execution_count": null,
   "metadata": {},
   "outputs": [],
   "source": [
    "#convert Keras file to Tensorflow Lite\n",
    "converter = tf.lite.TFLiteConverter.from_keras_model(model)\n",
    "tflite_model = converter.convert()\n",
    "\n",
    "#save Tensorflow Lite model as \"digitpredict.tflite\" in the current directory\n",
    "f = open(\"digitpredict.tflite\",\"wb\")\n",
    "f.write(tflite_model)\n",
    "f.close()\n",
    "\n",
    "#show TF Lite model in KBs\n",
    "tflite_model_size = len(tflite_model)/1024\n",
    "print('Float model size = %dKBs.' % tflite_model_size)"
   ]
  },
  {
   "cell_type": "code",
   "execution_count": null,
   "metadata": {},
   "outputs": [],
   "source": [
    "#Make the model smaller using Quantization for deploying to mobile device\n",
    "# Re-convert the model to TF Lite using quantization.\n",
    "converter.optimizations = [tf.lite.Optimize.DEFAULT]\n",
    "tflite_quantized_model = converter.convert()\n",
    "\n",
    "#save Tensorflowquantized model as \"digitpredict_quantized.tflite\" in the current directory\n",
    "f = open(\"digitpredict_quantized.tflite\",\"wb\")\n",
    "f.write(tflite_quantized_model)\n",
    "f.close()\n",
    "\n",
    "\n",
    "# Show model size in KBs.\n",
    "quantized_model_size = len(tflite_quantized_model) / 1024\n",
    "print('Quantized model size = %dKBs,' % quantized_model_size)\n",
    "print('which is about %d%% of the tflite_model_size.'\\\n",
    "      % (quantized_model_size * 100 / tflite_model_size))"
   ]
  },
  {
   "cell_type": "code",
   "execution_count": null,
   "metadata": {
    "scrolled": true
   },
   "outputs": [],
   "source": [
    "# A helper function that returns 'red'/'black' depending on if its two input\n",
    "# parameter matches or not.\n",
    "def get_label_color(val1, val2):\n",
    "  if val1 == val2:\n",
    "    return 'black'\n",
    "  else:\n",
    "    return 'red'\n",
    "\n",
    "# Predict the labels of digit images in our test dataset.\n",
    "predictions = model.predict(testX)\n",
    "\n",
    "# As the model output 10 float representing the probability of the input image\n",
    "# being a digit from 0 to 9, we need to find the largest probability value\n",
    "# to find out which digit the model predicts to be most likely in the image.\n",
    "prediction_digits = np.argmax(predictions, axis=1)\n",
    "print('length', len(prediction_digits))\n",
    "\n",
    "# Then plot 100 random test images and their predicted labels.\n",
    "# If a prediction result is different from the label provided label in \"test\"\n",
    "# dataset, we will highlight it in red color.\n",
    "plt.figure(figsize=(18,18))\n",
    "for i in range(100):\n",
    "  ax = plt.subplot(10, 10, i+1)\n",
    "  plt.xticks([])\n",
    "  plt.yticks([])\n",
    "  plt.grid(False)\n",
    "  image_index = random.randint(0, len(prediction_digits))\n",
    "  plt.imshow(testX[image_index], cmap=plt.cm.gray)\n",
    "  ax.xaxis.label.set_color(get_label_color(prediction_digits[image_index],testY[image_index]))\n",
    "  plt.xlabel('Predicted: %d' % prediction_digits[image_index])\n",
    "plt.show()"
   ]
  },
  {
   "cell_type": "code",
   "execution_count": null,
   "metadata": {},
   "outputs": [],
   "source": [
    "#Evaluate the TF Lite model\n",
    "# A helper function to evaluate the TF Lite model using \"test\" dataset.\n",
    "def evaluate_tflite_model(tflite_model):\n",
    "  # Initialize TFLite interpreter using the model.\n",
    "  interpreter = tf.lite.Interpreter(model_content=tflite_model)\n",
    "  interpreter.allocate_tensors()\n",
    "  input_tensor_index = interpreter.get_input_details()[0][\"index\"]\n",
    "  output = interpreter.tensor(interpreter.get_output_details()[0][\"index\"])\n",
    "\n",
    "  # Run predictions on every image in the \"test\" dataset.\n",
    "  prediction_digits = []\n",
    "  for test_image in testX:\n",
    "    # Pre-processing: add batch dimension and convert to float32 to match with\n",
    "    # the model's input data format.\n",
    "    test_image = np.expand_dims(test_image, axis=0).astype(np.float32)\n",
    "    interpreter.set_tensor(input_tensor_index, test_image)\n",
    "\n",
    "    # Run inference.\n",
    "    interpreter.invoke()\n",
    "\n",
    "    # Post-processing: remove batch dimension and find the digit with highest\n",
    "    # probability.\n",
    "    digit = np.argmax(output()[0])\n",
    "    prediction_digits.append(digit)\n",
    "\n",
    "  # Compare prediction results with ground truth labels to calculate accuracy.\n",
    "  accurate_count = 0\n",
    "  for index in range(len(prediction_digits)):\n",
    "    if prediction_digits[index] == testY[index]:\n",
    "      accurate_count += 1\n",
    "  accuracy = accurate_count * 1.0 / len(prediction_digits)\n",
    "\n",
    "  return accuracy\n",
    "\n",
    "# Evaluate the TF Lite float model. You'll find that its accurary is identical\n",
    "# to the original TF (Keras) model because they are essentially the same model\n",
    "# stored in different format.\n",
    "float_accuracy = evaluate_tflite_model(tflite_model)\n",
    "print('tflite model accuracy = %.4f' % float_accuracy)\n",
    "\n",
    "# Evalualte the TF Lite quantized model.\n",
    "# Don't be surprised if you see quantized model accuracy is higher than\n",
    "# the original float model. It happens sometimes :)\n",
    "quantized_accuracy = evaluate_tflite_model(tflite_quantized_model)\n",
    "print('Quantized model accuracy = %.4f' % quantized_accuracy)\n",
    "print('Accuracy drop = %.4f' % (float_accuracy - quantized_accuracy))"
   ]
  },
  {
   "cell_type": "code",
   "execution_count": null,
   "metadata": {},
   "outputs": [],
   "source": [
    "# Download the digit classification model if you're using Colab, \n",
    "# or print the model's local path if you're not using Colab.\n",
    "try:\n",
    "  from google.colab import files\n",
    "  files.download('digitpredict_quantized.tflite')\n",
    "except ImportError:\n",
    "  import os\n",
    "  print('TF Lite model:', os.path.join(os.getcwd(), 'digitpredict_quantized.tflite'))"
   ]
  },
  {
   "cell_type": "code",
   "execution_count": null,
   "metadata": {
    "scrolled": true
   },
   "outputs": [],
   "source": [
    "# Download a test image\n",
    "zero_img_path = keras.utils.get_file(\n",
    "    'zero.png', \n",
    "    'https://storage.googleapis.com/khanhlvg-public.appspot.com/digit-classifier/zero.png'\n",
    ")\n",
    "image = keras.preprocessing.image.load_img(\n",
    "    zero_img_path,\n",
    "    color_mode = 'grayscale',\n",
    "    target_size=(28, 28),\n",
    "    interpolation='bilinear'\n",
    ")\n",
    "\n",
    "# Pre-process the image: Adding batch dimension and normalize the pixel value to [0..1]\n",
    "# In training, we feed images in a batch to the model to improve training speed, making the model input shape to be (BATCH_SIZE, 28, 28).\n",
    "# For inference, we still need to match the input shape with training, so we expand the input dimensions to (1, 28, 28) using np.expand_dims\n",
    "input_image = np.expand_dims(np.array(image, dtype=np.float32) / 255.0, 0)\n",
    "\n",
    "# Show the pre-processed input image\n",
    "show_sample(input_image, ['Input Image'], 1)"
   ]
  },
  {
   "cell_type": "code",
   "execution_count": null,
   "metadata": {},
   "outputs": [],
   "source": [
    "interpreter = tf.lite.Interpreter(model_content=tflite_quantized_model)\n",
    "interpreter.allocate_tensors()\n",
    "interpreter.set_tensor(interpreter.get_input_details()[0][\"index\"], input_image)\n",
    "interpreter.invoke()\n",
    "output = interpreter.tensor(interpreter.get_output_details()[0][\"index\"])()[0]\n",
    "\n",
    "# Print the model's classification result\n",
    "digit = np.argmax(output)\n",
    "print('Predicted Digit: %d\\nConfidence: %f' % (digit, output[digit]))"
   ]
  },
  {
   "cell_type": "markdown",
   "metadata": {},
   "source": [
    "End !!!"
   ]
  }
 ],
 "metadata": {
  "kernelspec": {
   "display_name": "Python 3",
   "language": "python",
   "name": "python3"
  },
  "language_info": {
   "codemirror_mode": {
    "name": "ipython",
    "version": 3
   },
   "file_extension": ".py",
   "mimetype": "text/x-python",
   "name": "python",
   "nbconvert_exporter": "python",
   "pygments_lexer": "ipython3",
   "version": "3.7.9"
  }
 },
 "nbformat": 4,
 "nbformat_minor": 4
}
